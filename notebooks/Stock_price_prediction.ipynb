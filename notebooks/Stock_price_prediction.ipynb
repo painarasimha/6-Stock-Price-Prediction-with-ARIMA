{
 "cells": [
  {
   "cell_type": "code",
   "execution_count": 9,
   "metadata": {},
   "outputs": [],
   "source": [
    "# Importing Libraries\n",
    "import sys\n",
    "sys.path.append('G:/Portfolio Projects/Data Science/6-Predicting Stock Prices with ARIMA/src/')\n",
    "import pandas as pd\n",
    "\n",
    "from data_preprocessing import load_data\n",
    "from model_training import train_model\n",
    "from model_evaluation import evaluate_model\n",
    "from visualization import visualize"
   ]
  },
  {
   "cell_type": "markdown",
   "metadata": {},
   "source": [
    "Load & Preprocess Data"
   ]
  },
  {
   "cell_type": "code",
   "execution_count": 10,
   "metadata": {},
   "outputs": [
    {
     "name": "stdout",
     "output_type": "stream",
     "text": [
      "  Company        Date Close/Last    Volume     Open       High      Low\n",
      "0    AAPL  07-17-2023    $193.99  50520160  $191.90    $194.32  $191.81\n",
      "1    AAPL  07-14-2023    $190.69  41616240  $190.23  $191.1799  $189.63\n",
      "2    AAPL  07-13-2023    $190.54  41342340  $190.50    $191.19  $189.78\n",
      "3    AAPL  07-12-2023    $189.77  60750250  $189.68    $191.70  $188.47\n",
      "4    AAPL  07-11-2023    $188.08  46638120  $189.16    $189.30  $186.60\n",
      "Number of Rows: 25160\n",
      "Number of Columns: 7\n",
      "<class 'pandas.core.frame.DataFrame'>\n",
      "RangeIndex: 25160 entries, 0 to 25159\n",
      "Data columns (total 7 columns):\n",
      " #   Column      Non-Null Count  Dtype \n",
      "---  ------      --------------  ----- \n",
      " 0   Company     25160 non-null  object\n",
      " 1   Date        25160 non-null  object\n",
      " 2   Close/Last  25160 non-null  object\n",
      " 3   Volume      25160 non-null  int64 \n",
      " 4   Open        25160 non-null  object\n",
      " 5   High        25160 non-null  object\n",
      " 6   Low         25160 non-null  object\n",
      "dtypes: int64(1), object(6)\n",
      "memory usage: 1.3+ MB\n",
      "None\n",
      "Company\n",
      "AAPL    2516\n",
      "SBUX    2516\n",
      "MSFT    2516\n",
      "CSCO    2516\n",
      "QCOM    2516\n",
      "META    2516\n",
      "AMZN    2516\n",
      "TSLA    2516\n",
      "AMD     2516\n",
      "NFLX    2516\n",
      "Name: count, dtype: int64\n",
      "Training Data : (62905, 7)\n",
      "Testing Data : (20965, 7)\n"
     ]
    }
   ],
   "source": [
    "filepath = '../data/data.csv'\n",
    "data = load_data(filepath)"
   ]
  },
  {
   "cell_type": "code",
   "execution_count": 8,
   "metadata": {},
   "outputs": [
    {
     "data": {
      "text/plain": [
       "(      Company        Date Close/Last     Volume     Open       High      Low\n",
       " 0        AAPL  07-17-2023    $193.99   50520160  $191.90    $194.32  $191.81\n",
       " 1        AAPL  07-14-2023    $190.69   41616240  $190.23  $191.1799  $189.63\n",
       " 2        AAPL  07-13-2023    $190.54   41342340  $190.50    $191.19  $189.78\n",
       " 3        AAPL  07-12-2023    $189.77   60750250  $189.68    $191.70  $188.47\n",
       " 4        AAPL  07-11-2023    $188.08   46638120  $189.16    $189.30  $186.60\n",
       " ...       ...         ...        ...        ...      ...        ...      ...\n",
       " 20962     AMD  03-23-2020     $41.64  101704700   $40.62     $42.32   $38.95\n",
       " 20963     AMD  03-20-2020     $39.61  106859500   $41.51   $42.4825   $39.58\n",
       " 20964     AMD  03-19-2020     $39.82   88939020   $39.56     $41.70   $37.69\n",
       " 20965     AMD  03-18-2020     $39.12  106949300   $39.54     $41.95   $36.75\n",
       " 20966     AMD  03-17-2020     $41.88   92741880   $40.19     $42.88   $38.30\n",
       " \n",
       " [62905 rows x 7 columns],\n",
       "       Company        Date Close/Last    Volume      Open      High       Low\n",
       " 4195     SBUX  11-09-2016     $54.58  13707840    $53.20    $54.82    $52.80\n",
       " 4196     SBUX  11-08-2016     $54.62   9315585    $54.40    $54.79   $54.115\n",
       " 4197     SBUX  11-07-2016     $54.49  14903780    $53.50    $54.68    $53.19\n",
       " 4198     SBUX  11-04-2016     $52.75  21924610    $51.43    $53.74    $50.84\n",
       " 4199     SBUX  11-03-2016     $51.77  21330460    $52.99    $53.00    $51.34\n",
       " ...       ...         ...        ...       ...       ...       ...       ...\n",
       " 25155    NFLX  07-24-2013   $34.4714  33395351  $35.6743  $36.0357  $34.3143\n",
       " 25156    NFLX  07-23-2013   $35.7514  76792963  $35.9143  $37.4621  $35.1714\n",
       " 25157    NFLX  07-22-2013   $37.4228  44791095  $38.1214  $38.3928  $36.7314\n",
       " 25158    NFLX  07-19-2013   $37.7966  18098750  $38.2043  $38.2784  $37.5971\n",
       " 25159    NFLX  07-18-2013   $38.0586  20418642  $38.6157  $38.6157  $37.7143\n",
       " \n",
       " [20965 rows x 7 columns])"
      ]
     },
     "execution_count": 8,
     "metadata": {},
     "output_type": "execute_result"
    }
   ],
   "source": [
    "train_data = data[0]\n",
    "test_data = data[1]\n",
    "\n",
    "train_data.to_csv('../data/trainin_data.csv', index=False)\n",
    "test_data.to_csv('../data/testing_data.csv', index=False)"
   ]
  },
  {
   "cell_type": "markdown",
   "metadata": {},
   "source": [
    "Visualization"
   ]
  },
  {
   "cell_type": "markdown",
   "metadata": {},
   "source": [
    "visualize(dat)"
   ]
  }
 ],
 "metadata": {
  "kernelspec": {
   "display_name": "env",
   "language": "python",
   "name": "python3"
  },
  "language_info": {
   "codemirror_mode": {
    "name": "ipython",
    "version": 3
   },
   "file_extension": ".py",
   "mimetype": "text/x-python",
   "name": "python",
   "nbconvert_exporter": "python",
   "pygments_lexer": "ipython3",
   "version": "3.12.1"
  }
 },
 "nbformat": 4,
 "nbformat_minor": 2
}
